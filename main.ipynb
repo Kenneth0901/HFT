{
 "cells": [
  {
   "cell_type": "code",
   "execution_count": 17,
   "id": "ce2fd067-3265-4205-95ad-9458366bae97",
   "metadata": {
    "tags": []
   },
   "outputs": [],
   "source": [
    "import pandas as pd\n",
    "import requests\n",
    "import time\n",
    "import logging\n",
    "import os\n",
    "\n",
    "logger = logging.getLogger(__name__)\n",
    "logger.setLevel(logging.DEBUG)\n",
    "handler = logging.FileHandler(filename='load_data.log', mode='w')\n",
    "handler.setLevel(logging.DEBUG)\n",
    "formatter = logging.Formatter('%(asctime)s [%(levelname)s] %(message)s')\n",
    "handler.setFormatter(formatter)\n",
    "logger.addHandler(handler)\n",
    "\n",
    "\n",
    "BASE_URL = 'https://api.binance.com'\n",
    "kline = '/api/v3/klines'\n",
    "limit = 1000\n",
    "symbol = 'BTCUSDT'\n",
    "end_time = int(time.time() //60 *60 * 1000) #转化为毫秒 ms时间戳\n",
    "start_time = int(end_time - limit * 60 * 1000)\n",
    "\n",
    "\n",
    "folder_path = f'./data/{symbol}'\n",
    "os.makedirs(folder_path, exist_ok=True)\n",
    "\n",
    "while end_time > 1704067200000:\n",
    "    url = BASE_URL + kline + '?symbol=' + str(symbol) + '&interval=1m&limit=' + str(limit) + '&startTime=' + str(start_time) + '&endTime=' + str(end_time)\n",
    "    res = requests.get(url)\n",
    "    status_code = res.status_code\n",
    "    if status_code == 200:\n",
    "        data = res.json()\n",
    "        df = pd.DataFrame(res.json(), columns = {'start_time': '0', 'open': '1', 'high': '2', 'low': '3', 'close': '4', 'volume': '5', 'end_time': '6', \n",
    "                                         'quote_volume': '7', 'trades': '8', 'taker_base_volume': '9', 'taker_quote_volume': '10', 'ignore': '11'})\n",
    "        df.set_index('start_time', inplace=True)\n",
    "        df.to_parquet(f'./data/{symbol}/{end_time}')\n",
    "        logger.info(f'finish {end_time}')\n",
    "        end_time = start_time\n",
    "        start_time = int(end_time - limit * 60 * 1000)\n",
    "        \n",
    "    else:\n",
    "        logger.error(f'Error in {end_time}')\n",
    "        time.sleep(5)\n",
    "        continue\n",
    "        \n"
   ]
  },
  {
   "cell_type": "code",
   "execution_count": 14,
   "id": "6f09d1a1-c6bd-43d8-b300-c1d3e4ceebd8",
   "metadata": {
    "tags": []
   },
   "outputs": [
    {
     "name": "stdout",
     "output_type": "stream",
     "text": [
      "200\n"
     ]
    }
   ],
   "source": [
    "print(res.status_code)"
   ]
  },
  {
   "cell_type": "code",
   "execution_count": 5,
   "id": "faafc8da-63a8-431d-a4eb-3faa82222ffc",
   "metadata": {
    "tags": []
   },
   "outputs": [],
   "source": [
    "df = pd.read_parquet('./data/BTCUSDT/1730787060000')"
   ]
  },
  {
   "cell_type": "code",
   "execution_count": 6,
   "id": "77d5d3b5-0dca-44a4-afba-aa67ae3e7924",
   "metadata": {
    "tags": []
   },
   "outputs": [
    {
     "data": {
      "text/html": [
       "<div>\n",
       "<style scoped>\n",
       "    .dataframe tbody tr th:only-of-type {\n",
       "        vertical-align: middle;\n",
       "    }\n",
       "\n",
       "    .dataframe tbody tr th {\n",
       "        vertical-align: top;\n",
       "    }\n",
       "\n",
       "    .dataframe thead th {\n",
       "        text-align: right;\n",
       "    }\n",
       "</style>\n",
       "<table border=\"1\" class=\"dataframe\">\n",
       "  <thead>\n",
       "    <tr style=\"text-align: right;\">\n",
       "      <th></th>\n",
       "      <th>open</th>\n",
       "      <th>high</th>\n",
       "      <th>low</th>\n",
       "      <th>close</th>\n",
       "      <th>volume</th>\n",
       "      <th>end_time</th>\n",
       "      <th>quote_volume</th>\n",
       "      <th>trades</th>\n",
       "      <th>taker_base_volume</th>\n",
       "      <th>taker_quote_volume</th>\n",
       "      <th>ignore</th>\n",
       "    </tr>\n",
       "    <tr>\n",
       "      <th>start_time</th>\n",
       "      <th></th>\n",
       "      <th></th>\n",
       "      <th></th>\n",
       "      <th></th>\n",
       "      <th></th>\n",
       "      <th></th>\n",
       "      <th></th>\n",
       "      <th></th>\n",
       "      <th></th>\n",
       "      <th></th>\n",
       "      <th></th>\n",
       "    </tr>\n",
       "  </thead>\n",
       "  <tbody>\n",
       "  </tbody>\n",
       "</table>\n",
       "</div>"
      ],
      "text/plain": [
       "Empty DataFrame\n",
       "Columns: [open, high, low, close, volume, end_time, quote_volume, trades, taker_base_volume, taker_quote_volume, ignore]\n",
       "Index: []"
      ]
     },
     "execution_count": 6,
     "metadata": {},
     "output_type": "execute_result"
    }
   ],
   "source": [
    "df"
   ]
  },
  {
   "cell_type": "code",
   "execution_count": null,
   "id": "ded29d06-07c3-49f6-9049-43fbfa823779",
   "metadata": {},
   "outputs": [],
   "source": [
    "end_time - 60"
   ]
  }
 ],
 "metadata": {
  "kernelspec": {
   "display_name": "Python 3 (ipykernel)",
   "language": "python",
   "name": "python3"
  },
  "language_info": {
   "codemirror_mode": {
    "name": "ipython",
    "version": 3
   },
   "file_extension": ".py",
   "mimetype": "text/x-python",
   "name": "python",
   "nbconvert_exporter": "python",
   "pygments_lexer": "ipython3",
   "version": "3.11.5"
  }
 },
 "nbformat": 4,
 "nbformat_minor": 5
}
